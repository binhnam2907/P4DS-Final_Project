{
 "cells": [
  {
   "cell_type": "markdown",
   "id": "85fa871b",
   "metadata": {},
   "source": [
    "# Final Project: Lập trình cho khoa học dữ liệu"
   ]
  },
  {
   "cell_type": "markdown",
   "id": "9baf9209",
   "metadata": {},
   "source": [
    "## Github: https://github.com/binhnam2907/P4DS-Final_Project"
   ]
  },
  {
   "cell_type": "markdown",
   "id": "a9768047",
   "metadata": {},
   "source": [
    "## Thông tin nhóm:"
   ]
  },
  {
   "cell_type": "markdown",
   "id": "3ba27e5e",
   "metadata": {},
   "source": [
    "#### Nhóm: 12\n",
    "\n",
    "- Số lượng thành viên: 1\n",
    "    - Thành viên 1:\n",
    "        - Họ và tên: Lê Nguyễn Bình Nam\n",
    "        - MSSV: 20127567\n",
    "        - Email: 20127567@student.hcmus.edu.vn"
   ]
  },
  {
   "cell_type": "markdown",
   "id": "d20d53fd",
   "metadata": {},
   "source": [
    "## Thông tin đồ án:"
   ]
  },
  {
   "cell_type": "markdown",
   "id": "d663258c",
   "metadata": {},
   "source": [
    "### Thư viện sử dụng:"
   ]
  },
  {
   "cell_type": "code",
   "execution_count": 35,
   "id": "604f4fac",
   "metadata": {},
   "outputs": [],
   "source": [
    "import pandas as pd\n",
    "import numpy as np\n",
    "import matplotlib\n",
    "import matplotlib.pyplot as plt\n",
    "import seaborn as sns\n",
    "import plotly.express as px\n",
    "import plotly.graph_objects as go\n",
    "from plotly.subplots import make_subplots\n",
    "import country_converter as coco"
   ]
  },
  {
   "cell_type": "markdown",
   "id": "929d7629",
   "metadata": {},
   "source": [
    "### 1. Tổng quan dữ liệu & tiền xử lý:"
   ]
  },
  {
   "cell_type": "markdown",
   "id": "35510f31",
   "metadata": {},
   "source": [
    "- \"Salary for Data Science jobs\" là một trong những vấn để đang nóng với mọi người, cụ thể là những người làm trong lĩnh vực Data cũng như các ngành nghề liên quan.\n",
    "- Dữ liệu được thu thập bằng cách lấy dữ liệu khi người dùng điền thông tin vào trang web https://salaries.ai-jobs.net/. Mỗi dòng trong bộ dữ liệu này tương ứng với một bản ghi của người dùng đã điền vào biểu mẫu. Mỗi dòng chứa thông tin về thu nhập của người dùng trong một năm cụ thể, vị trí công việc, kinh nghiệm, quốc gia, loại công việc, v.v."
   ]
  },
  {
   "cell_type": "code",
   "execution_count": 36,
   "id": "3a1d4bdb",
   "metadata": {
    "scrolled": true
   },
   "outputs": [
    {
     "data": {
      "text/html": [
       "<div>\n",
       "<style scoped>\n",
       "    .dataframe tbody tr th:only-of-type {\n",
       "        vertical-align: middle;\n",
       "    }\n",
       "\n",
       "    .dataframe tbody tr th {\n",
       "        vertical-align: top;\n",
       "    }\n",
       "\n",
       "    .dataframe thead th {\n",
       "        text-align: right;\n",
       "    }\n",
       "</style>\n",
       "<table border=\"1\" class=\"dataframe\">\n",
       "  <thead>\n",
       "    <tr style=\"text-align: right;\">\n",
       "      <th></th>\n",
       "      <th>work_year</th>\n",
       "      <th>experience_level</th>\n",
       "      <th>employment_type</th>\n",
       "      <th>job_title</th>\n",
       "      <th>salary</th>\n",
       "      <th>salary_currency</th>\n",
       "      <th>salary_in_usd</th>\n",
       "      <th>employee_residence</th>\n",
       "      <th>remote_ratio</th>\n",
       "      <th>company_location</th>\n",
       "      <th>company_size</th>\n",
       "    </tr>\n",
       "  </thead>\n",
       "  <tbody>\n",
       "    <tr>\n",
       "      <th>0</th>\n",
       "      <td>2020</td>\n",
       "      <td>MI</td>\n",
       "      <td>FT</td>\n",
       "      <td>Data Scientist</td>\n",
       "      <td>70000</td>\n",
       "      <td>EUR</td>\n",
       "      <td>79833</td>\n",
       "      <td>DE</td>\n",
       "      <td>0</td>\n",
       "      <td>DE</td>\n",
       "      <td>L</td>\n",
       "    </tr>\n",
       "    <tr>\n",
       "      <th>1</th>\n",
       "      <td>2020</td>\n",
       "      <td>SE</td>\n",
       "      <td>FT</td>\n",
       "      <td>Machine Learning Scientist</td>\n",
       "      <td>260000</td>\n",
       "      <td>USD</td>\n",
       "      <td>260000</td>\n",
       "      <td>JP</td>\n",
       "      <td>0</td>\n",
       "      <td>JP</td>\n",
       "      <td>S</td>\n",
       "    </tr>\n",
       "    <tr>\n",
       "      <th>2</th>\n",
       "      <td>2020</td>\n",
       "      <td>SE</td>\n",
       "      <td>FT</td>\n",
       "      <td>Big Data Engineer</td>\n",
       "      <td>85000</td>\n",
       "      <td>GBP</td>\n",
       "      <td>109024</td>\n",
       "      <td>GB</td>\n",
       "      <td>50</td>\n",
       "      <td>GB</td>\n",
       "      <td>M</td>\n",
       "    </tr>\n",
       "    <tr>\n",
       "      <th>3</th>\n",
       "      <td>2020</td>\n",
       "      <td>MI</td>\n",
       "      <td>FT</td>\n",
       "      <td>Product Data Analyst</td>\n",
       "      <td>20000</td>\n",
       "      <td>USD</td>\n",
       "      <td>20000</td>\n",
       "      <td>HN</td>\n",
       "      <td>0</td>\n",
       "      <td>HN</td>\n",
       "      <td>S</td>\n",
       "    </tr>\n",
       "    <tr>\n",
       "      <th>4</th>\n",
       "      <td>2020</td>\n",
       "      <td>SE</td>\n",
       "      <td>FT</td>\n",
       "      <td>Machine Learning Engineer</td>\n",
       "      <td>150000</td>\n",
       "      <td>USD</td>\n",
       "      <td>150000</td>\n",
       "      <td>US</td>\n",
       "      <td>50</td>\n",
       "      <td>US</td>\n",
       "      <td>L</td>\n",
       "    </tr>\n",
       "  </tbody>\n",
       "</table>\n",
       "</div>"
      ],
      "text/plain": [
       "   work_year experience_level employment_type                   job_title  \\\n",
       "0       2020               MI              FT              Data Scientist   \n",
       "1       2020               SE              FT  Machine Learning Scientist   \n",
       "2       2020               SE              FT           Big Data Engineer   \n",
       "3       2020               MI              FT        Product Data Analyst   \n",
       "4       2020               SE              FT   Machine Learning Engineer   \n",
       "\n",
       "   salary salary_currency  salary_in_usd employee_residence  remote_ratio  \\\n",
       "0   70000             EUR          79833                 DE             0   \n",
       "1  260000             USD         260000                 JP             0   \n",
       "2   85000             GBP         109024                 GB            50   \n",
       "3   20000             USD          20000                 HN             0   \n",
       "4  150000             USD         150000                 US            50   \n",
       "\n",
       "  company_location company_size  \n",
       "0               DE            L  \n",
       "1               JP            S  \n",
       "2               GB            M  \n",
       "3               HN            S  \n",
       "4               US            L  "
      ]
     },
     "execution_count": 36,
     "metadata": {},
     "output_type": "execute_result"
    }
   ],
   "source": [
    "data = pd.read_csv('ds_salaries.csv', index_col=0)\n",
    "data.head()"
   ]
  },
  {
   "cell_type": "code",
   "execution_count": 37,
   "id": "d2976d1e",
   "metadata": {},
   "outputs": [
    {
     "name": "stdout",
     "output_type": "stream",
     "text": [
      "Number of rows: 607\n",
      "Number of columns: 11\n"
     ]
    }
   ],
   "source": [
    "num_rows, num_cols = data.shape\n",
    "print(f'Number of rows: {num_rows}\\nNumber of columns: {num_cols}')"
   ]
  },
  {
   "cell_type": "markdown",
   "id": "8c3db1fc",
   "metadata": {},
   "source": [
    "- Dữ liệu có 607 dòng tương ứng với 607 người cụ thể.\n",
    "- Dữ liệu gồm có 11 cột, mô tả chi tiết:\n",
    "    - work_year: Năm trả lương (Trong tập dữ liệu của ta chỉ xét trong 3 năm 2020, 2021, 2022)\n",
    "    - experience_level: Mức độ kinh nghiệm của cá nhân trong lĩnh vực, được cho theo tiêu chuẩn sau:\n",
    "        - EN = Entry-level / Junior;\n",
    "        - MI = Mid-level / Intermediate;\n",
    "        - SE = Senior-level / Expert;\n",
    "        - EX = Executive-level / Director\n",
    "    - employment_type: Thời gian làm việc hiện tại cho công ty:\n",
    "        - PT = Part-time;\n",
    "        - FT = Full-time;\n",
    "        - CT = Contract;\n",
    "        - FL = Freelance;\n",
    "    - job_title: Vai trò trong công ty.\n",
    "    - salary: Mức lương được trả.\n",
    "    - salary_currency: Đơn vị tiền tệ của tiền lương được trả theo mã đơn vị tiền tệ ISO 4217.\n",
    "    - salary_in_usd: Mức lương được trả khi quy ra đơn vị usd.\n",
    "    - employee_residence: Mã ghi tắt quốc gia đang làm việc theo chuẩn ISO 3166 country code(Alpha-2 code).\n",
    "    - remote_ratio: Phân loại nhân viên có làm từ xa hay không, theo chuẩn mẫu:\n",
    "        - 0 = Làm tại công ty chính (less than 20%);\n",
    "        - 50 = Một nửa từ xa một nửa tại công ty\n",
    "        - 100 = Làm từ xa hoàn toàn (more than 80%)\n",
    "    - company_location: Vị trí của công ty chính được viết theo chuẩn ISO 3166 country code(Alpha-2 code).\n",
    "    - company_size: Số lượng người trung bình làm cho công ty mỗi năm:\n",
    "        - S = Ít hơn 50 người (small);\n",
    "        - M = Từ 50 tới 250 người (medium);\n",
    "        - L = Hơn 250 người (large)"
   ]
  },
  {
   "cell_type": "markdown",
   "id": "ff432d26",
   "metadata": {},
   "source": [
    "### Kiểm tra sự trùng lặp:"
   ]
  },
  {
   "cell_type": "code",
   "execution_count": 38,
   "id": "93d4588b",
   "metadata": {},
   "outputs": [
    {
     "data": {
      "text/plain": [
       "42"
      ]
     },
     "execution_count": 38,
     "metadata": {},
     "output_type": "execute_result"
    }
   ],
   "source": [
    "duplicated = data.duplicated().sum()\n",
    "duplicated"
   ]
  },
  {
   "cell_type": "markdown",
   "id": "1b0c8205",
   "metadata": {},
   "source": [
    "-  Hiện tại dữ liệu có 42 giá trị trùng lắp. Tuy nhiên ta không được loại bỏ nó ra khỏi tập dữ liệu để đảm bảo tính khách quan của dữ liệu. Có thể có 2 người cùng công ty cùng vị trí cùng điền vào dẫn đến tình trạng lặp."
   ]
  },
  {
   "cell_type": "markdown",
   "id": "eeb5eb6f",
   "metadata": {},
   "source": [
    "### Kiểu dữ liệu của từng cột:"
   ]
  },
  {
   "cell_type": "code",
   "execution_count": 39,
   "id": "acd0b161",
   "metadata": {},
   "outputs": [
    {
     "data": {
      "text/plain": [
       "work_year              int64\n",
       "experience_level      object\n",
       "employment_type       object\n",
       "job_title             object\n",
       "salary                 int64\n",
       "salary_currency       object\n",
       "salary_in_usd          int64\n",
       "employee_residence    object\n",
       "remote_ratio           int64\n",
       "company_location      object\n",
       "company_size          object\n",
       "dtype: object"
      ]
     },
     "execution_count": 39,
     "metadata": {},
     "output_type": "execute_result"
    }
   ],
   "source": [
    "col_type = data.dtypes\n",
    "col_type"
   ]
  },
  {
   "cell_type": "markdown",
   "id": "edefd46c",
   "metadata": {},
   "source": [
    "- Đa số dữ liệu đều mang format đúng với yêu cầu.\n",
    "- Cột dữ liệu **remote_ratio** nên chuyển thành dữ liệu phân lớp."
   ]
  },
  {
   "cell_type": "code",
   "execution_count": 40,
   "id": "973fc3ca",
   "metadata": {},
   "outputs": [],
   "source": [
    "data.remote_ratio.replace([100,50,0],['Fully Remote','Partially Remote','On-site'], inplace=True)\n",
    "data['remote_ratio']=data['remote_ratio'].astype(object)"
   ]
  },
  {
   "cell_type": "markdown",
   "id": "f5f3b0b2",
   "metadata": {},
   "source": [
    "- Ta tiến hành xem thử giá trị trong cột **job_title**: "
   ]
  },
  {
   "cell_type": "code",
   "execution_count": 41,
   "id": "14a68a76",
   "metadata": {},
   "outputs": [
    {
     "data": {
      "text/plain": [
       "{'3D Computer Vision Researcher',\n",
       " 'AI Scientist',\n",
       " 'Analytics Engineer',\n",
       " 'Applied Data Scientist',\n",
       " 'Applied Machine Learning Scientist',\n",
       " 'BI Data Analyst',\n",
       " 'Big Data Architect',\n",
       " 'Big Data Engineer',\n",
       " 'Business Data Analyst',\n",
       " 'Cloud Data Engineer',\n",
       " 'Computer Vision Engineer',\n",
       " 'Computer Vision Software Engineer',\n",
       " 'Data Analyst',\n",
       " 'Data Analytics Engineer',\n",
       " 'Data Analytics Lead',\n",
       " 'Data Analytics Manager',\n",
       " 'Data Architect',\n",
       " 'Data Engineer',\n",
       " 'Data Engineering Manager',\n",
       " 'Data Science Consultant',\n",
       " 'Data Science Engineer',\n",
       " 'Data Science Manager',\n",
       " 'Data Scientist',\n",
       " 'Data Specialist',\n",
       " 'Director of Data Engineering',\n",
       " 'Director of Data Science',\n",
       " 'ETL Developer',\n",
       " 'Finance Data Analyst',\n",
       " 'Financial Data Analyst',\n",
       " 'Head of Data',\n",
       " 'Head of Data Science',\n",
       " 'Head of Machine Learning',\n",
       " 'Lead Data Analyst',\n",
       " 'Lead Data Engineer',\n",
       " 'Lead Data Scientist',\n",
       " 'Lead Machine Learning Engineer',\n",
       " 'ML Engineer',\n",
       " 'Machine Learning Developer',\n",
       " 'Machine Learning Engineer',\n",
       " 'Machine Learning Infrastructure Engineer',\n",
       " 'Machine Learning Manager',\n",
       " 'Machine Learning Scientist',\n",
       " 'Marketing Data Analyst',\n",
       " 'NLP Engineer',\n",
       " 'Principal Data Analyst',\n",
       " 'Principal Data Engineer',\n",
       " 'Principal Data Scientist',\n",
       " 'Product Data Analyst',\n",
       " 'Research Scientist',\n",
       " 'Staff Data Scientist'}"
      ]
     },
     "execution_count": 41,
     "metadata": {},
     "output_type": "execute_result"
    }
   ],
   "source": [
    "set(data['job_title'])"
   ]
  },
  {
   "cell_type": "markdown",
   "id": "2c4872c7",
   "metadata": {},
   "source": [
    "- Nhận xét: \n",
    "    - Có rất nhiều tên công việc (50+ categories).\n",
    "    - Có những loại công việc có thể đưa vào chung một trường chung: \n",
    "        - Ví dụ: Financial Data Analyst, Product Data Analyst, Business Data Analyst, ... có thể gọi chung là Data Analyst. \n",
    "        - Ví dụ: Cloud Data Architect, Principal Data Architect, Big Data Architect',... có thể được gọi là Data Architect.\n",
    "    - Một số công việc có thể chung chức năng nhưng tên gọi được nhập khác nhau:\n",
    "        - Ví dụ: Machine Learning Engineer và ML Engineer có thể được hiểu như Machine Learning Engineer.\n",
    "        - Ví dụ: Financial Data Analyst và Finance Data Analyst.\n",
    "- Giải pháp: \n",
    "    - Ta có thể chuyển chúng về dạng thống nhất gồm các nhóm ngành cơ bản (vì tập các nhóm ngành ít nên ta có thể làm như này):\n",
    "        - Data Scientist\n",
    "        - Data Engineer\n",
    "        - Data Analyst\n",
    "        - Data Architect\n",
    "        - Machine Learning Engineer\n",
    "        - Machine Learning Scientist\n",
    "        - Computer Vision Engineer\n",
    "        - NLP Engineer\n",
    "        - Research Scientist\n",
    "        - AI Scientist\n",
    "        - Applied Scientist"
   ]
  },
  {
   "cell_type": "code",
   "execution_count": 42,
   "id": "e6a7560f",
   "metadata": {},
   "outputs": [],
   "source": [
    "employment_classification = {'Data Scientist':'Data Scientist',\n",
    "                             'Principal Data Scientist':'Data Scientist',\n",
    "                             'Applied Data Scientist':'Data Scientist',\n",
    "                             'Data Science Manager':'Data Scientist',\n",
    "                             'Head of Data Science':'Data Scientist',\n",
    "                             'Director of Data Science':'Data Scientist',\n",
    "                             'Staff Data Scientist':'Data Scientist',\n",
    "                             'Data Science Consultant':'Data Scientist',\n",
    "                             'Data Science Engineer':'Data Scientist',\n",
    "                             'Head of Data':'Data Scientist',\n",
    "                             'Lead Data Scientist':'Data Scientist',\n",
    "                             'Data Scientist Lead':'Data Scientist',\n",
    "                             'Data Science Lead':'Data Scientist',\n",
    "                             'Product Data Scientist':'Data Scientist',\n",
    "                             'Data Specialist':'Data Scientist',\n",
    "                             'Big Data Engineer':'Data Engineer',\n",
    "                             'Data Engineer':'Data Engineer',\n",
    "                             'Principal Data Engineer':'Data Engineer',\n",
    "                             'Data Operations Engineer':'Data Engineer',\n",
    "                             'Lead Data Engineer':'Data Engineer',\n",
    "                             'Director of Data Engineering':'Data Engineer',\n",
    "                             'Research Engineer':'Data Engineer',\n",
    "                             'Data Engineering Manager':'Data Engineer',\n",
    "                             'Cloud Data Engineer':'Data Engineer',\n",
    "                             'Data Science Tech Lead':'Data Engineer',\n",
    "                             'Data Manager':'Data Engineer',\n",
    "                             'ETL Developer':'Data Engineer',\n",
    "                             'Product Data Analyst':'Data Analyst',\n",
    "                             'Data Analyst':'Data Analyst',\n",
    "                             'Business Data Analyst':'Data Analyst',\n",
    "                             'Data Science Consultant':'Data Analyst',\n",
    "                             'BI Data Analyst':'Data Analyst',\n",
    "                             'BI Analyst':'Data Analyst',\n",
    "                             'Lead Data Analyst':'Data Analyst',\n",
    "                             'Data Analytics Engineer':'Data Analyst',\n",
    "                             'Marketing Data Analyst':'Data Analyst',\n",
    "                             'Financial Data Analyst':'Data Analyst',\n",
    "                             'Finance Data Analyst':'Data Analyst',\n",
    "                             'Principal Data Analyst':'Data Analyst',\n",
    "                             'Data Analytics Manager':'Data Analyst',\n",
    "                             'Data Analytics Lead':'Data Analyst',\n",
    "                             'Analytics Engineer':'Data Analyst',\n",
    "                             'Data Operations Analyst':'Data Analyst',\n",
    "                             'Data Analytics Consultant':'Data Analyst',\n",
    "                             'Power BI Developer':'Data Analyst',\n",
    "                             'Machine Learning Scientist':'Machine Learning Scientist',\n",
    "                             'Applied Machine Learning Scientist':'Machine Learning Scientist',\n",
    "                             'Machine Learning Research Engineer':'Machine Learning Scientist',\n",
    "                             'Head of Machine Learning':'Machine Learning Scientist',\n",
    "                             'Machine Learning Manager':'Machine Learning Scientist',                            \n",
    "                             'Machine Learning Infrastructure Engineer':'Machine Learning Engineer',\n",
    "                             'Machine Learning Engineer':'Machine Learning Engineer',\n",
    "                             'ML Engineer':'Machine Learning Engineer',\n",
    "                             'Lead Machine Learning Engineer':'Machine Learning Engineer',\n",
    "                             'Machine Learning Developer':'Machine Learning Engineer',\n",
    "                             'Data Architect':'Data Architect',\n",
    "                             'Cloud Data Architect':'Data Architect',\n",
    "                             'Principal Data Architect':'Data Architect',\n",
    "                             'Big Data Architect':'Data Architect',\n",
    "                             'Computer Vision Engineer':'Computer Vision Engineer',\n",
    "                             'Computer Vision Software Engineer':'Computer Vision Engineer',\n",
    "                             '3D Computer Vision Researcher':'Computer Vision Engineer',\n",
    "                             'NLP Engineer':'NLP Engineer',\n",
    "                             'AI Scientist':'AI Scientist',\n",
    "                             'Research Scientist':'Research Scientist',\n",
    "                             'Applied Scientist':'Applied Scientist',\n",
    "                            }\n",
    "\n",
    "data[\"job_title\"] = data[\"job_title\"].map(employment_classification)"
   ]
  },
  {
   "cell_type": "markdown",
   "id": "ddfb755b",
   "metadata": {},
   "source": [
    "- Kiểm tra lại: "
   ]
  },
  {
   "cell_type": "code",
   "execution_count": 43,
   "id": "908dfd12",
   "metadata": {},
   "outputs": [
    {
     "data": {
      "text/plain": [
       "{'AI Scientist',\n",
       " 'Computer Vision Engineer',\n",
       " 'Data Analyst',\n",
       " 'Data Architect',\n",
       " 'Data Engineer',\n",
       " 'Data Scientist',\n",
       " 'Machine Learning Engineer',\n",
       " 'Machine Learning Scientist',\n",
       " 'NLP Engineer',\n",
       " 'Research Scientist'}"
      ]
     },
     "execution_count": 43,
     "metadata": {},
     "output_type": "execute_result"
    }
   ],
   "source": [
    "set(data['job_title'])"
   ]
  },
  {
   "cell_type": "markdown",
   "id": "a731f70e",
   "metadata": {},
   "source": [
    "### Xử lý những cột mang giá trị số:"
   ]
  },
  {
   "cell_type": "code",
   "execution_count": 44,
   "id": "37fd15b1",
   "metadata": {},
   "outputs": [
    {
     "data": {
      "text/plain": [
       "work_year              int64\n",
       "experience_level      object\n",
       "employment_type       object\n",
       "job_title             object\n",
       "salary                 int64\n",
       "salary_currency       object\n",
       "salary_in_usd          int64\n",
       "employee_residence    object\n",
       "remote_ratio          object\n",
       "company_location      object\n",
       "company_size          object\n",
       "dtype: object"
      ]
     },
     "execution_count": 44,
     "metadata": {},
     "output_type": "execute_result"
    }
   ],
   "source": [
    "col_type = data.dtypes\n",
    "col_type"
   ]
  },
  {
   "cell_type": "markdown",
   "id": "a2a96746",
   "metadata": {},
   "source": [
    "- Chỉ có 3 cột **work_year, salary, salary_in_usd** mang giá trị số, ta sẽ tiến hành lấy 3 cột giá trị này ra và tính một vài thông số thống kê cơ bản. Vì trong hàm describe() không hỗ trợ tỉ lệ thiếu dữ liệu nên ta tính riêng."
   ]
  },
  {
   "cell_type": "code",
   "execution_count": 45,
   "id": "a835b16a",
   "metadata": {},
   "outputs": [
    {
     "data": {
      "text/html": [
       "<div>\n",
       "<style scoped>\n",
       "    .dataframe tbody tr th:only-of-type {\n",
       "        vertical-align: middle;\n",
       "    }\n",
       "\n",
       "    .dataframe tbody tr th {\n",
       "        vertical-align: top;\n",
       "    }\n",
       "\n",
       "    .dataframe thead th {\n",
       "        text-align: right;\n",
       "    }\n",
       "</style>\n",
       "<table border=\"1\" class=\"dataframe\">\n",
       "  <thead>\n",
       "    <tr style=\"text-align: right;\">\n",
       "      <th></th>\n",
       "      <th>percent_missing</th>\n",
       "    </tr>\n",
       "  </thead>\n",
       "  <tbody>\n",
       "    <tr>\n",
       "      <th>work_year</th>\n",
       "      <td>0.0</td>\n",
       "    </tr>\n",
       "    <tr>\n",
       "      <th>salary</th>\n",
       "      <td>0.0</td>\n",
       "    </tr>\n",
       "    <tr>\n",
       "      <th>salary_in_usd</th>\n",
       "      <td>0.0</td>\n",
       "    </tr>\n",
       "  </tbody>\n",
       "</table>\n",
       "</div>"
      ],
      "text/plain": [
       "               percent_missing\n",
       "work_year                  0.0\n",
       "salary                     0.0\n",
       "salary_in_usd              0.0"
      ]
     },
     "execution_count": 45,
     "metadata": {},
     "output_type": "execute_result"
    }
   ],
   "source": [
    "missing_ratio = data.select_dtypes(include=['float64','int64']).isnull().sum()\n",
    "missing_ratio = (missing_ratio / num_rows)\n",
    "missing_value_df = pd.DataFrame({'percent_missing': missing_ratio })\n",
    "\n",
    "missing_value_df"
   ]
  },
  {
   "cell_type": "code",
   "execution_count": 46,
   "id": "2cf9c435",
   "metadata": {},
   "outputs": [
    {
     "data": {
      "text/html": [
       "<div>\n",
       "<style scoped>\n",
       "    .dataframe tbody tr th:only-of-type {\n",
       "        vertical-align: middle;\n",
       "    }\n",
       "\n",
       "    .dataframe tbody tr th {\n",
       "        vertical-align: top;\n",
       "    }\n",
       "\n",
       "    .dataframe thead th {\n",
       "        text-align: right;\n",
       "    }\n",
       "</style>\n",
       "<table border=\"1\" class=\"dataframe\">\n",
       "  <thead>\n",
       "    <tr style=\"text-align: right;\">\n",
       "      <th></th>\n",
       "      <th>work_year</th>\n",
       "      <th>salary</th>\n",
       "      <th>salary_in_usd</th>\n",
       "    </tr>\n",
       "  </thead>\n",
       "  <tbody>\n",
       "    <tr>\n",
       "      <th>count</th>\n",
       "      <td>607.0</td>\n",
       "      <td>607.0</td>\n",
       "      <td>607.0</td>\n",
       "    </tr>\n",
       "    <tr>\n",
       "      <th>mean</th>\n",
       "      <td>2021.4</td>\n",
       "      <td>324000.1</td>\n",
       "      <td>112297.9</td>\n",
       "    </tr>\n",
       "    <tr>\n",
       "      <th>std</th>\n",
       "      <td>0.7</td>\n",
       "      <td>1544357.5</td>\n",
       "      <td>70957.3</td>\n",
       "    </tr>\n",
       "    <tr>\n",
       "      <th>min</th>\n",
       "      <td>2020.0</td>\n",
       "      <td>4000.0</td>\n",
       "      <td>2859.0</td>\n",
       "    </tr>\n",
       "    <tr>\n",
       "      <th>25%</th>\n",
       "      <td>2021.0</td>\n",
       "      <td>70000.0</td>\n",
       "      <td>62726.0</td>\n",
       "    </tr>\n",
       "    <tr>\n",
       "      <th>50%</th>\n",
       "      <td>2022.0</td>\n",
       "      <td>115000.0</td>\n",
       "      <td>101570.0</td>\n",
       "    </tr>\n",
       "    <tr>\n",
       "      <th>75%</th>\n",
       "      <td>2022.0</td>\n",
       "      <td>165000.0</td>\n",
       "      <td>150000.0</td>\n",
       "    </tr>\n",
       "    <tr>\n",
       "      <th>max</th>\n",
       "      <td>2022.0</td>\n",
       "      <td>30400000.0</td>\n",
       "      <td>600000.0</td>\n",
       "    </tr>\n",
       "  </tbody>\n",
       "</table>\n",
       "</div>"
      ],
      "text/plain": [
       "       work_year      salary  salary_in_usd\n",
       "count      607.0       607.0          607.0\n",
       "mean      2021.4    324000.1       112297.9\n",
       "std          0.7   1544357.5        70957.3\n",
       "min       2020.0      4000.0         2859.0\n",
       "25%       2021.0     70000.0        62726.0\n",
       "50%       2022.0    115000.0       101570.0\n",
       "75%       2022.0    165000.0       150000.0\n",
       "max       2022.0  30400000.0       600000.0"
      ]
     },
     "execution_count": 46,
     "metadata": {},
     "output_type": "execute_result"
    }
   ],
   "source": [
    "numeric_info = data.describe().round(1)\n",
    "numeric_info"
   ]
  },
  {
   "cell_type": "markdown",
   "id": "f5d2afb0",
   "metadata": {},
   "source": [
    "- Các cột số không có giá trị bị thiếu, có thể là do cách thu thập thông tin thực sự hiệu quả từ trang web khi thu thập bằng cách yêu cầu những người tham gia khảo sát trên khắp thế giới điền vào biểu mẫu có một số thuộc tính. vừa phải và điền ẩn danh để người dùng có thể nhanh chóng điền thông tin cơ bản nhưng quan trọng như năm làm việc hoặc tiền lương.\n",
    "- Sự khác biệt giữa giá trị tối thiểu và tối đa của cột lương là khá lớn do sự khác biệt về tiền tệ ở mỗi quốc gia. Do đó, việc có cột lương_in_usd là cần thiết cho quá trình trực quan hóa.\n",
    "- Ta sẽ không tiến hành loại bỏ các outlier vì sẽ mất đi tính tổng quát của dữ liệu. Có thể tồn tại những cá thể có những chỉ số như vậy thì sao."
   ]
  },
  {
   "cell_type": "markdown",
   "id": "b0abc8aa",
   "metadata": {},
   "source": [
    "#### Tương quan giữa các cột số:"
   ]
  },
  {
   "cell_type": "code",
   "execution_count": 47,
   "id": "56d665b3",
   "metadata": {},
   "outputs": [
    {
     "data": {
      "image/png": "[encoded data removed]",
      "text/plain": [
       "<Figure size 216x360 with 2 Axes>"
      ]
     },
     "metadata": {
      "needs_background": "light"
     },
     "output_type": "display_data"
    }
   ],
   "source": [
    "fig, ax = plt.subplots() \n",
    "fig.set_size_inches(3,5)\n",
    "sns.heatmap(data.corr(), vmax =.8, square = True, annot = True)\n",
    "plt.title('Confusion Matrix',fontsize=10);"
   ]
  },
  {
   "cell_type": "markdown",
   "id": "11909e6b",
   "metadata": {},
   "source": [
    "-  Các cột mang giá trị số không có tương quan, phụ thuộc vào nhau."
   ]
  },
  {
   "cell_type": "markdown",
   "id": "4ef28ead",
   "metadata": {},
   "source": [
    "### Xử lý thông tin các cột không mang giá trị số:"
   ]
  },
  {
   "cell_type": "markdown",
   "id": "696852cf",
   "metadata": {},
   "source": [
    "- Thực hiện thống kê và lưu vào khung dữ liệu với các hàng biểu thị các giá trị sau:\n",
    "    - Tỷ lệ phần trăm (từ 0 đến 100) của các giá trị bị thiếu (missing_ratio).\n",
    "    - Số lượng giá trị khác nhau (không bao gồm giá trị bị thiếu) (num_values).\n",
    "    - Tỷ lệ phần trăm (từ 0 đến 100) của mỗi giá trị được sắp xếp theo tỷ lệ phần trăm giảm dần (không xét giá trị thiếu, tỷ lệ là tỷ lệ với số lượng giá trị không thiếu): dùng từ điển để lưu, key là giá trị, giá trị là tỷ lệ phần trăm (value_percentages)."
   ]
  },
  {
   "cell_type": "code",
   "execution_count": 48,
   "id": "a7a8aeb0",
   "metadata": {},
   "outputs": [
    {
     "data": {
      "text/html": [
       "<div>\n",
       "<style scoped>\n",
       "    .dataframe tbody tr th:only-of-type {\n",
       "        vertical-align: middle;\n",
       "    }\n",
       "\n",
       "    .dataframe tbody tr th {\n",
       "        vertical-align: top;\n",
       "    }\n",
       "\n",
       "    .dataframe thead th {\n",
       "        text-align: right;\n",
       "    }\n",
       "</style>\n",
       "<table border=\"1\" class=\"dataframe\">\n",
       "  <thead>\n",
       "    <tr style=\"text-align: right;\">\n",
       "      <th></th>\n",
       "      <th>salary_currency</th>\n",
       "      <th>company_size</th>\n",
       "      <th>employment_type</th>\n",
       "      <th>company_location</th>\n",
       "      <th>experience_level</th>\n",
       "      <th>employee_residence</th>\n",
       "      <th>remote_ratio</th>\n",
       "      <th>job_title</th>\n",
       "    </tr>\n",
       "  </thead>\n",
       "  <tbody>\n",
       "    <tr>\n",
       "      <th>missing_percentage</th>\n",
       "      <td>0.0</td>\n",
       "      <td>0.0</td>\n",
       "      <td>0.0</td>\n",
       "      <td>0.0</td>\n",
       "      <td>0.0</td>\n",
       "      <td>0.0</td>\n",
       "      <td>0.0</td>\n",
       "      <td>0.0</td>\n",
       "    </tr>\n",
       "    <tr>\n",
       "      <th>num_values</th>\n",
       "      <td>17</td>\n",
       "      <td>3</td>\n",
       "      <td>4</td>\n",
       "      <td>50</td>\n",
       "      <td>4</td>\n",
       "      <td>57</td>\n",
       "      <td>3</td>\n",
       "      <td>10</td>\n",
       "    </tr>\n",
       "    <tr>\n",
       "      <th>value_percentages</th>\n",
       "      <td>{'USD': 65.6, 'EUR': 15.7, 'GBP': 7.2, 'INR': 4.4, 'CAD': 3.0, 'JPY': 0.5, 'PLN': 0.5, 'TRY': 0....</td>\n",
       "      <td>{'M': 53.7, 'L': 32.6, 'S': 13.7}</td>\n",
       "      <td>{'FT': 96.9, 'PT': 1.6, 'CT': 0.8, 'FL': 0.7}</td>\n",
       "      <td>{'US': 58.5, 'GB': 7.7, 'CA': 4.9, 'DE': 4.6, 'IN': 4.0, 'FR': 2.5, 'ES': 2.3, 'GR': 1.8, 'JP': ...</td>\n",
       "      <td>{'SE': 46.1, 'MI': 35.1, 'EN': 14.5, 'EX': 4.3}</td>\n",
       "      <td>{'US': 54.7, 'GB': 7.2, 'IN': 4.9, 'CA': 4.8, 'DE': 4.1, 'FR': 3.0, 'ES': 2.5, 'GR': 2.1, 'JP': ...</td>\n",
       "      <td>{'Fully Remote': 62.8, 'On-site': 20.9, 'Partially Remote': 16.3}</td>\n",
       "      <td>{'Data Scientist': 31.5, 'Data Engineer': 26.4, 'Data Analyst': 23.4, 'Machine Learning Engineer...</td>\n",
       "    </tr>\n",
       "  </tbody>\n",
       "</table>\n",
       "</div>"
      ],
      "text/plain": [
       "                                                                                                        salary_currency  \\\n",
       "missing_percentage                                                                                                  0.0   \n",
       "num_values                                                                                                           17   \n",
       "value_percentages   {'USD': 65.6, 'EUR': 15.7, 'GBP': 7.2, 'INR': 4.4, 'CAD': 3.0, 'JPY': 0.5, 'PLN': 0.5, 'TRY': 0....   \n",
       "\n",
       "                                         company_size  \\\n",
       "missing_percentage                                0.0   \n",
       "num_values                                          3   \n",
       "value_percentages   {'M': 53.7, 'L': 32.6, 'S': 13.7}   \n",
       "\n",
       "                                                  employment_type  \\\n",
       "missing_percentage                                            0.0   \n",
       "num_values                                                      4   \n",
       "value_percentages   {'FT': 96.9, 'PT': 1.6, 'CT': 0.8, 'FL': 0.7}   \n",
       "\n",
       "                                                                                                       company_location  \\\n",
       "missing_percentage                                                                                                  0.0   \n",
       "num_values                                                                                                           50   \n",
       "value_percentages   {'US': 58.5, 'GB': 7.7, 'CA': 4.9, 'DE': 4.6, 'IN': 4.0, 'FR': 2.5, 'ES': 2.3, 'GR': 1.8, 'JP': ...   \n",
       "\n",
       "                                                   experience_level  \\\n",
       "missing_percentage                                              0.0   \n",
       "num_values                                                        4   \n",
       "value_percentages   {'SE': 46.1, 'MI': 35.1, 'EN': 14.5, 'EX': 4.3}   \n",
       "\n",
       "                                                                                                     employee_residence  \\\n",
       "missing_percentage                                                                                                  0.0   \n",
       "num_values                                                                                                           57   \n",
       "value_percentages   {'US': 54.7, 'GB': 7.2, 'IN': 4.9, 'CA': 4.8, 'DE': 4.1, 'FR': 3.0, 'ES': 2.5, 'GR': 2.1, 'JP': ...   \n",
       "\n",
       "                                                                         remote_ratio  \\\n",
       "missing_percentage                                                                0.0   \n",
       "num_values                                                                          3   \n",
       "value_percentages   {'Fully Remote': 62.8, 'On-site': 20.9, 'Partially Remote': 16.3}   \n",
       "\n",
       "                                                                                                              job_title  \n",
       "missing_percentage                                                                                                  0.0  \n",
       "num_values                                                                                                           10  \n",
       "value_percentages   {'Data Scientist': 31.5, 'Data Engineer': 26.4, 'Data Analyst': 23.4, 'Machine Learning Engineer...  "
      ]
     },
     "execution_count": 48,
     "metadata": {},
     "output_type": "execute_result"
    }
   ],
   "source": [
    "pd.set_option('display.max_colwidth', 100)\n",
    "pd.set_option('display.max_columns', None)\n",
    "\n",
    "def different(list1, list2):\n",
    "    return list(set(list1) - set(list2)) + list(set(list2) - set(list1))\n",
    "def num_values(x):\n",
    "    return x.str.split(';').explode().nunique()\n",
    "def missing_percentage(x):\n",
    "    return (x.isnull().sum() * 100 / len(x)).round(1)\n",
    "def value_percentages(x):\n",
    "    return x.str.split(';').explode().value_counts(normalize=True).apply(lambda x: x*100).round(1).to_dict()\n",
    "# Only categorical attributes\n",
    "cols_name = different(data.columns.tolist() , data.select_dtypes(include=np.number).columns.tolist())\n",
    "# List of aggregate functions\n",
    "rows_name = [missing_percentage, num_values, value_percentages]\n",
    "# Aggregate\n",
    "cate_col_info_df = data[cols_name].agg(rows_name)\n",
    "cate_col_info_df"
   ]
  },
  {
   "cell_type": "markdown",
   "id": "0b0e6161",
   "metadata": {},
   "source": [
    "### 2. Đưa ra câu hỏi và trả lời:"
   ]
  },
  {
   "cell_type": "markdown",
   "id": "e1547882",
   "metadata": {},
   "source": [
    "#### a. Xu hướng của ngành Data cũng như các nhóm ngành nhỏ bên trong như thế nào?"
   ]
  },
  {
   "cell_type": "markdown",
   "id": "e0e47539",
   "metadata": {},
   "source": [
    "- Ý nghĩa:\n",
    "    - Sự thay đổi mức lương của ngành data.\n",
    "    - Đưa ra được xu hướng nghề nghiệp hiện nay (nghề nào được trả lương cao, thay đổi mức lương giữa các năm của các ngành nghề)."
   ]
  },
  {
   "cell_type": "markdown",
   "id": "b8a394fe",
   "metadata": {},
   "source": [
    "- Các bước trả lời câu hỏi:\\\n",
    "    - Tính trung bình lương ngành data theo từng năm và biểu diễn bởi đồ thị đường đơn.\n",
    "    - Với mỗi năm (2020, 2021, 2022) ta lấy ra cột **job_title, salary_in_usd**.\n",
    "    - Với 2 cột, ta tính giá trị trung bình của cột **salary_in_usd** của từng các thành phần trong cột **job_title** theo thứ tự cố định trong **name_job**. Với mỗi giá trị trong **name_job** mà không tồn tại trong **job_title**, ta coi như trong bình của nó là 0. Kết thúc hàm trả về giá trị trung bình của **name_job** ứng với mỗi năm.\n",
    "    - Biểu diễn các giá trị theo biểu đồ đường với 3 đường 3 màu khác nhau tương ứng với 3 năm."
   ]
  },
  {
   "cell_type": "code",
   "execution_count": 49,
   "id": "fe20bc65",
   "metadata": {},
   "outputs": [
    {
     "data": {
      "image/png": "[encoded data removed]",
      "text/plain": [
       "<Figure size 720x216 with 1 Axes>"
      ]
     },
     "metadata": {
      "needs_background": "light"
     },
     "output_type": "display_data"
    }
   ],
   "source": [
    "avg_sal_change=data.groupby('work_year')['salary_in_usd'].mean()\n",
    "plt.figure(figsize=(10,3))\n",
    "sns.lineplot(x=avg_sal_change.index,y=avg_sal_change.values,linewidth=3)\n",
    "\n",
    "xticks=[2020,2021,2022]\n",
    "plt.xticks(xticks,xticks)\n",
    "plt.xlabel('Year')\n",
    "plt.ylabel('Average Salary')\n",
    "plt.title('Average Salary of Data Science Jobs change');"
   ]
  },
  {
   "cell_type": "markdown",
   "id": "95354c9e",
   "metadata": {},
   "source": [
    "- Nhận xét:\n",
    "    - Mức lương trung bình tăng từ khoảng 96000 USD vào năm 2020 lên 100000 USD vào năm 2021 và cuối cùng là 125000 USD vào năm 2022. Điều này cho thấy một xu hướng tích cực và cho thấy rằng các công việc khoa học dữ liệu đang trở nên có giá trị hơn theo năm tháng."
   ]
  },
  {
   "cell_type": "code",
   "execution_count": 50,
   "id": "1d2880dd",
   "metadata": {},
   "outputs": [],
   "source": [
    "name_job = ['AI Scientist',\n",
    " 'Computer Vision Engineer',\n",
    " 'Data Analyst',\n",
    " 'Data Architect',\n",
    " 'Data Engineer',\n",
    " 'Data Scientist',\n",
    " 'Machine Learning Engineer',\n",
    " 'Machine Learning Scientist',\n",
    " 'NLP Engineer',\n",
    " 'Research Scientist']\n",
    "def mean_job(year):\n",
    "    data_each_year = data[data['work_year'] == year]\n",
    "    job_salary = np.array([data_each_year['job_title'], data_each_year['salary_in_usd']]).T\n",
    "\n",
    "    job_salary = pd.DataFrame(job_salary, columns=['job_title', 'salary_in_usd'])\n",
    "\n",
    "    mean = []\n",
    "    for name in name_job:\n",
    "        if name in set(job_salary['job_title']):\n",
    "            mean.append(job_salary.loc[job_salary['job_title'] == name, 'salary_in_usd'].mean())\n",
    "        else:\n",
    "            mean.append(0)\n",
    "    mean = np.array(mean).round(2)\n",
    "    return mean "
   ]
  },
  {
   "cell_type": "code",
   "execution_count": 51,
   "id": "96e6eeef",
   "metadata": {},
   "outputs": [
    {
     "data": {
      "image/png": "[encoded data removed]",
      "text/plain": [
       "<Figure size 1872x360 with 1 Axes>"
      ]
     },
     "metadata": {
      "needs_background": "light"
     },
     "output_type": "display_data"
    }
   ],
   "source": [
    "mean2020, mean2021, mean2022 = mean_job(2020) ,mean_job(2021), mean_job(2022)\n",
    "plt.figure(num = 3, figsize=(26,5))\n",
    "plt.plot(name_job, mean2020, label = '2020')\n",
    "plt.plot(name_job, mean2021,color='red', label ='2021')\n",
    "plt.plot(name_job, mean2022, color='green',label ='2022')\n",
    "plt.title(\"Mức lương của từng ngành nghề trong lĩnh vực Data\")\n",
    "plt.ylabel('Average Salary')\n",
    "plt.legend()\n",
    "plt.show()"
   ]
  },
  {
   "cell_type": "markdown",
   "id": "bc42afa9",
   "metadata": {},
   "source": [
    "- Nhận xét:\n",
    "    - Với đa số các nhóm ngành đều có xu hương tăng theo từng năm.\n",
    "    - Có thể hiểu, với sự phát triển mạnh mẽ của khoa học dữ liệu và khoa học máy tính như hiện nay, những công việc kể trên là những công việc đòi hỏi nguồn nhân lực rất cao trong thời đại ngày nay, nên không chỉ làm trong môi trường trong nước mà dựa vào nguồn vốn đầu tư trực tiếp nước ngoài của các quốc gia ngày càng được đẩy mạnh\n",
    "    - Với các vị trí Machine Learning Scientist và Research Scientsit, sự giảm đột ngột từ 2020 - 2022 có lẽ vì vào năm 2020, nhu cầu research tăng mạnh vì thức mức lương cũng cao (cao nhất trong các ngành). Khi mà nguồn nhân lực đủ thì vì cung > cầu nên mức lương giảm."
   ]
  },
  {
   "cell_type": "markdown",
   "id": "ec59ee4d",
   "metadata": {},
   "source": [
    "#### b.  Mức lương trung bình của từng nhân viên theo loại nhân viên của từng công ty và theo từng mức độ kinh nghiệm làm việc:"
   ]
  },
  {
   "cell_type": "markdown",
   "id": "1dd6fa9b",
   "metadata": {},
   "source": [
    "- b1. Mức lương trung bình của từng nhân viên theo từng loại công ty:\n",
    "     - Ý nghĩa:  Có sự so sánh về mức lương trung bình giữa các loại nhân viên thuộc các quy mô khác nhau của công ty. Từ đó lựa chọn loại hình lao động phù hợp nhất với quy mô mong muốn của công ty.\n",
    "     - Các bước thực hiện: \n",
    "        - Trực quan hóa trong đó: trục hoành là quy mô công ty (company_size), trục tung là lương trung bình (salary_in_usd) và bảng chú thích màu là loại lao động (employment_type).\n",
    "        - Điều chỉnh các thông số để hình ảnh hiển thị rõ ràng."
   ]
  },
  {
   "cell_type": "code",
   "execution_count": 52,
   "id": "d5cf0a90",
   "metadata": {},
   "outputs": [
    {
     "data": {
      "image/png": "[encoded data removed]",
      "text/plain": [
       "<Figure size 720x432 with 1 Axes>"
      ]
     },
     "metadata": {
      "needs_background": "light"
     },
     "output_type": "display_data"
    }
   ],
   "source": [
    "plt.subplots(figsize=(10, 6))\n",
    "p = sns.barplot(data=data, x='company_size', y='salary_in_usd', hue='employment_type', ci=None)\n",
    "p.set_title('Mức lương của từng loại nhân viên đối với quy mô từng công ty', fontsize=15)\n",
    "p.set_xlabel('Quy mô công ty', fontsize=10)\n",
    "p.set_ylabel('Mức lương trung bình', fontsize=10)\n",
    "plt.legend(title='Loại hình làm việc')\n",
    "plt.show()"
   ]
  },
  {
   "cell_type": "markdown",
   "id": "ba974c9a",
   "metadata": {},
   "source": [
    "- Nhận xét:\n",
    "    - Loại nhân viên hợp đồng ở các công ty nhỏ có mức lương trung bình cao nhất và trên 400.000 USD. Đây cũng là loại cao nhất của hãng lớn nhưng chưa tới 200.000 USD.\n",
    "    - Loại nhân viên chính thức phù hợp nhất với các công ty vừa vì loại này cao hơn ở quy mô lớn và nhỏ, cũng như cao nhất ở quy mô vừa.\n",
    "    - Loại hình bán thời gian và tự do với mức lương trung bình được trả ở quy mô vừa và nhỏ; quy mô công ty trung bình tốt hơn một chút so với quy mô nhỏ để thanh toán cho cả hai loại."
   ]
  },
  {
   "attachments": {},
   "cell_type": "markdown",
   "id": "2b9026ee",
   "metadata": {},
   "source": [
    "-  b2. Mức lương trung bình theo từng mức độ kinh nghiệm làm việc:\n",
    "    - Ý nghĩa: Có cái nhìn tổng quát về sự thay đổi mức lương của cấp độ kinh nghiệm trong 3 năm (2020, 2021, 2022). Từ đó, đánh giá mức độ ảnh hưởng của kinh nghiệm làm việc đến mức lương.\n",
    "    - Các bước thực hiện:\n",
    "        - Xây dựng hàm trích suất trung bình lương theo từng mức trình độ.\n",
    "        - Biểu diễn bằng biểu đồ đường cho cả 3 năm."
   ]
  },
  {
   "cell_type": "code",
   "execution_count": 53,
   "id": "50a85c3b",
   "metadata": {},
   "outputs": [
    {
     "data": {
      "text/plain": [
       "0     63648.6000\n",
       "1    202416.5000\n",
       "2     85950.0625\n",
       "3    137240.5000\n",
       "Name: salary_in_usd, dtype: float64"
      ]
     },
     "execution_count": 53,
     "metadata": {},
     "output_type": "execute_result"
    }
   ],
   "source": [
    "def experandsalary(year):\n",
    "    year_salary=data.groupby([\"work_year\",\"experience_level\"])[\"salary_in_usd\"].mean()\n",
    "    year_salary=year_salary.reset_index()\n",
    "    year_salary=year_salary[year_salary[\"work_year\"]==year]\n",
    "    year_salary=year_salary[\"salary_in_usd\"]\n",
    "    return year_salary\n",
    "year_salary=experandsalary(2020)\n",
    "year_salary"
   ]
  },
  {
   "cell_type": "code",
   "execution_count": 54,
   "id": "4efb80d2",
   "metadata": {},
   "outputs": [
    {
     "data": {
      "image/png": "[encoded data removed]",
      "text/plain": [
       "<Figure size 720x360 with 1 Axes>"
      ]
     },
     "metadata": {
      "needs_background": "light"
     },
     "output_type": "display_data"
    }
   ],
   "source": [
    "exp = ['Entry-level / Junior',\n",
    "       'Executive-level / Director',\n",
    "        'Mid-level / Intermediate',\n",
    "        'Senior-level / Expert']\n",
    "mean2020, mean2021, mean2022 = experandsalary(2020) ,experandsalary(2021), experandsalary(2022)\n",
    "plt.figure(num = 10, figsize=(10,5))\n",
    "plt.plot(exp, mean2020, label = '2020')\n",
    "plt.plot(exp, mean2021,color='red', label ='2021')\n",
    "plt.plot(exp, mean2022, color='green',label ='2022')\n",
    "plt.title(\"Mức lương của từng ngành nghề trong lĩnh vực Data\")\n",
    "plt.ylabel('Average Salary')\n",
    "plt.legend()\n",
    "plt.show()"
   ]
  },
  {
   "attachments": {},
   "cell_type": "markdown",
   "id": "490f2449",
   "metadata": {},
   "source": [
    "- Nhận xét: \n",
    "    - Có sự phân hóa rõ rệt giữa mức lương giữa các trình độ chuyên môn. Điều này đúng với lẽ thường vì những người có chuyên môn cao thì sẽ giải quyết được nhiều vấn đề phức tạp hơn. Nhưng ở năm 2022 có sự tiệm cận giữa Senior-level / Expert và  Executive-level / Director, có lẽ sự chênh lệch giữa 2 trình độ này không có quá xa, dẫn đến mức lương giảm xuống ở Executive và tăng lên ở Senior."
   ]
  },
  {
   "cell_type": "markdown",
   "id": "a35623f6",
   "metadata": {},
   "source": [
    "#### c. Đâu là nơi lý tưởng để làm việc trong lĩnh vực KHDL?"
   ]
  },
  {
   "cell_type": "markdown",
   "id": "af562fc0",
   "metadata": {},
   "source": [
    "- Ý nghĩa: Giúp người tìm việc lựa chọn những quốc gia có lĩnh vực Khoa học dữ liệu đang phát triển, sẵn sàng chi trả cho nguồn nhân lực với mức lương hấp dẫn."
   ]
  },
  {
   "cell_type": "markdown",
   "id": "fe1fc45c",
   "metadata": {},
   "source": [
    "- Tiền xử lý:\n",
    "    - Để trả lời câu hỏi này một cách sinh động nhất, chúng ta sẽ xử lý dữ liệu để có thể hình dung kết quả trên bản đồ thế giới (sử dụng thư viện px.choropleth)\n",
    "    - Cách xử lý: Để sử dụng được thư viện px.choropleth, để dữ liệu được ánh xạ lên bản đồ thế giới thì tên quốc gia phải nằm trong ISO (Tổ chức tiêu chuẩn hóa quốc tế), vì vậy cần chuyển đổi cột 'company_location' giá trị thành mã ISO."
   ]
  },
  {
   "cell_type": "code",
   "execution_count": 55,
   "id": "9ab102a5",
   "metadata": {},
   "outputs": [
    {
     "data": {
      "text/plain": [
       "array(['DEU', 'JPN', 'GBR', 'HND', 'USA', 'HUN', 'NZL', 'FRA', 'IND',\n",
       "       'PAK', 'CHN', 'GRC', 'ARE', 'NLD', 'MEX', 'CAN', 'AUT', 'NGA',\n",
       "       'ESP', 'PRT', 'DNK', 'ITA', 'HRV', 'LUX', 'POL', 'SGP', 'ROU',\n",
       "       'IRQ', 'BRA', 'BEL', 'UKR', 'ISR', 'RUS', 'MLT', 'CHL', 'IRN',\n",
       "       'COL', 'MDA', 'KEN', 'SVN', 'CHE', 'VNM', 'ASM', 'TUR', 'CZE',\n",
       "       'DZA', 'EST', 'MYS', 'AUS', 'IRL'], dtype=object)"
      ]
     },
     "execution_count": 55,
     "metadata": {},
     "output_type": "execute_result"
    }
   ],
   "source": [
    "country_names = coco.convert(names=data['company_location'], to=\"ISO3\")\n",
    "data['company_location'] = country_names\n",
    "data['company_location'].unique()"
   ]
  },
  {
   "cell_type": "markdown",
   "id": "db53efa0",
   "metadata": {},
   "source": [
    "- Các bước thực hiện:\n",
    "    - Tạo dataframe average_salary gồm 2 thuộc tính 'company_location' và 'mean_salary_in_usd':\n",
    "        - 'company_location': hiển thị mã quốc gia ISO.\n",
    "        - 'mean_salary_in_usd': thể hiện mức lương trung bình (trong vòng 3 năm) của các quốc gia tương ứng.\n",
    "    - Tiến hành trực quan hóa bằng biểu đồ choropleth (thư viện plotly.express) trong đó: giá trị lương trung bình (mean_salary_in_usd) của mỗi quốc gia (company_location) sẽ được hiển thị màu trên bản đồ thế giới."
   ]
  },
  {
   "cell_type": "code",
   "execution_count": 56,
   "id": "f14adcfc",
   "metadata": {},
   "outputs": [
    {
     "data": {
      "text/html": [
       "<div>\n",
       "<style scoped>\n",
       "    .dataframe tbody tr th:only-of-type {\n",
       "        vertical-align: middle;\n",
       "    }\n",
       "\n",
       "    .dataframe tbody tr th {\n",
       "        vertical-align: top;\n",
       "    }\n",
       "\n",
       "    .dataframe thead th {\n",
       "        text-align: right;\n",
       "    }\n",
       "</style>\n",
       "<table border=\"1\" class=\"dataframe\">\n",
       "  <thead>\n",
       "    <tr style=\"text-align: right;\">\n",
       "      <th></th>\n",
       "      <th>company_location</th>\n",
       "      <th>mean_salary_in_usd</th>\n",
       "    </tr>\n",
       "  </thead>\n",
       "  <tbody>\n",
       "    <tr>\n",
       "      <th>0</th>\n",
       "      <td>ARE</td>\n",
       "      <td>100000.000000</td>\n",
       "    </tr>\n",
       "    <tr>\n",
       "      <th>1</th>\n",
       "      <td>ASM</td>\n",
       "      <td>18053.000000</td>\n",
       "    </tr>\n",
       "    <tr>\n",
       "      <th>2</th>\n",
       "      <td>AUS</td>\n",
       "      <td>108042.666667</td>\n",
       "    </tr>\n",
       "    <tr>\n",
       "      <th>3</th>\n",
       "      <td>AUT</td>\n",
       "      <td>72920.750000</td>\n",
       "    </tr>\n",
       "    <tr>\n",
       "      <th>4</th>\n",
       "      <td>BEL</td>\n",
       "      <td>85699.000000</td>\n",
       "    </tr>\n",
       "  </tbody>\n",
       "</table>\n",
       "</div>"
      ],
      "text/plain": [
       "  company_location  mean_salary_in_usd\n",
       "0              ARE       100000.000000\n",
       "1              ASM        18053.000000\n",
       "2              AUS       108042.666667\n",
       "3              AUT        72920.750000\n",
       "4              BEL        85699.000000"
      ]
     },
     "execution_count": 56,
     "metadata": {},
     "output_type": "execute_result"
    }
   ],
   "source": [
    "salary_location_df = data.groupby(['salary_in_usd', 'company_location']).size().reset_index()\n",
    "average_salary = salary_location_df.groupby('company_location').mean().reset_index()\n",
    "average_salary.rename(columns = {'salary_in_usd':'mean_salary_in_usd'}, inplace = True)\n",
    "average_salary = average_salary[['company_location','mean_salary_in_usd']]\n",
    "average_salary.head()"
   ]
  },
  {
   "cell_type": "code",
   "execution_count": 57,
   "id": "70e6ee2c",
   "metadata": {},
   "outputs": [
    {
     "data": {
      "application/vnd.plotly.v1+json": {
       "config": {
        "plotlyServerURL": "https://plot.ly"
       },
       "data": [
        {
         "coloraxis": "coloraxis",
         "geo": "geo",
         "hovertemplate": "locations=%{location}<br>color=%{z}<extra></extra>",
         "locations": [
          "ARE",
          "ASM",
          "AUS",
          "AUT",
          "BEL",
          "BRA",
          "CAN",
          "CHE",
          "CHL",
          "CHN",
          "COL",
          "CZE",
          "DEU",
          "DNK",
          "DZA",
          "ESP",
          "EST",
          "FRA",
          "GBR",
          "GRC",
          "HND",
          "HRV",
          "HUN",
          "IND",
          "IRL",
          "IRN",
          "IRQ",
          "ISR",
          "ITA",
          "JPN",
          "KEN",
          "LUX",
          "MDA",
          "MEX",
          "MLT",
          "MYS",
          "NGA",
          "NLD",
          "NZL",
          "PAK",
          "POL",
          "PRT",
          "ROU",
          "RUS",
          "SGP",
          "SVN",
          "TUR",
          "UKR",
          "USA",
          "VNM"
         ],
         "name": "",
         "type": "choropleth",
         "z": [
          100000,
          18053,
          108042.66666666667,
          72920.75,
          85699,
          18602.666666666668,
          101908.5,
          64114,
          40038,
          71665.5,
          21844,
          50937,
          82229.66666666667,
          54386.333333333336,
          100000,
          53060.142857142855,
          32974,
          63970.666666666664,
          85142.6129032258,
          52026.7,
          20000,
          45618,
          35735,
          30065.81818181818,
          71444,
          4000,
          100000,
          119059,
          36366.5,
          114127.33333333333,
          9272,
          43942.666666666664,
          18000,
          32123.333333333332,
          28369,
          40000,
          30000,
          54945.75,
          125000,
          13333.333333333334,
          66082.5,
          47793.75,
          60000,
          157500,
          89294,
          63831,
          20096.666666666668,
          13400,
          148598.1322751323,
          4000
         ]
        }
       ],
       "layout": {
        "coloraxis": {
         "colorbar": {
          "title": {
           "text": "color"
          }
         },
         "colorscale": [
          [
           0,
           "rgb(103,0,31)"
          ],
          [
           0.1,
           "rgb(178,24,43)"
          ],
          [
           0.2,
           "rgb(214,96,77)"
          ],
          [
           0.3,
           "rgb(244,165,130)"
          ],
          [
           0.4,
           "rgb(253,219,199)"
          ],
          [
           0.5,
           "rgb(247,247,247)"
          ],
          [
           0.6,
           "rgb(209,229,240)"
          ],
          [
           0.7,
           "rgb(146,197,222)"
          ],
          [
           0.8,
           "rgb(67,147,195)"
          ],
          [
           0.9,
           "rgb(33,102,172)"
          ],
          [
           1,
           "rgb(5,48,97)"
          ]
         ]
        },
        "geo": {
         "center": {},
         "domain": {
          "x": [
           0,
           1
          ],
          "y": [
           0,
           1
          ]
         }
        },
        "legend": {
         "tracegroupgap": 0
        },
        "margin": {
         "t": 60
        },
        "template": {
         "data": {
          "bar": [
           {
            "error_x": {
             "color": "#2a3f5f"
            },
            "error_y": {
             "color": "#2a3f5f"
            },
            "marker": {
             "line": {
              "color": "#E5ECF6",
              "width": 0.5
             },
             "pattern": {
              "fillmode": "overlay",
              "size": 10,
              "solidity": 0.2
             }
            },
            "type": "bar"
           }
          ],
          "barpolar": [
           {
            "marker": {
             "line": {
              "color": "#E5ECF6",
              "width": 0.5
             },
             "pattern": {
              "fillmode": "overlay",
              "size": 10,
              "solidity": 0.2
             }
            },
            "type": "barpolar"
           }
          ],
          "carpet": [
           {
            "aaxis": {
             "endlinecolor": "#2a3f5f",
             "gridcolor": "white",
             "linecolor": "white",
             "minorgridcolor": "white",
             "startlinecolor": "#2a3f5f"
            },
            "baxis": {
             "endlinecolor": "#2a3f5f",
             "gridcolor": "white",
             "linecolor": "white",
             "minorgridcolor": "white",
             "startlinecolor": "#2a3f5f"
            },
            "type": "carpet"
           }
          ],
          "choropleth": [
           {
            "colorbar": {
             "outlinewidth": 0,
             "ticks": ""
            },
            "type": "choropleth"
           }
          ],
          "contour": [
           {
            "colorbar": {
             "outlinewidth": 0,
             "ticks": ""
            },
            "colorscale": [
             [
              0,
              "#0d0887"
             ],
             [
              0.1111111111111111,
              "#46039f"
             ],
             [
              0.2222222222222222,
              "#7201a8"
             ],
             [
              0.3333333333333333,
              "#9c179e"
             ],
             [
              0.4444444444444444,
              "#bd3786"
             ],
             [
              0.5555555555555556,
              "#d8576b"
             ],
             [
              0.6666666666666666,
              "#ed7953"
             ],
             [
              0.7777777777777778,
              "#fb9f3a"
             ],
             [
              0.8888888888888888,
              "#fdca26"
             ],
             [
              1,
              "#f0f921"
             ]
            ],
            "type": "contour"
           }
          ],
          "contourcarpet": [
           {
            "colorbar": {
             "outlinewidth": 0,
             "ticks": ""
            },
            "type": "contourcarpet"
           }
          ],
          "heatmap": [
           {
            "colorbar": {
             "outlinewidth": 0,
             "ticks": ""
            },
            "colorscale": [
             [
              0,
              "#0d0887"
             ],
             [
              0.1111111111111111,
              "#46039f"
             ],
             [
              0.2222222222222222,
              "#7201a8"
             ],
             [
              0.3333333333333333,
              "#9c179e"
             ],
             [
              0.4444444444444444,
              "#bd3786"
             ],
             [
              0.5555555555555556,
              "#d8576b"
             ],
             [
              0.6666666666666666,
              "#ed7953"
             ],
             [
              0.7777777777777778,
              "#fb9f3a"
             ],
             [
              0.8888888888888888,
              "#fdca26"
             ],
             [
              1,
              "#f0f921"
             ]
            ],
            "type": "heatmap"
           }
          ],
          "heatmapgl": [
           {
            "colorbar": {
             "outlinewidth": 0,
             "ticks": ""
            },
            "colorscale": [
             [
              0,
              "#0d0887"
             ],
             [
              0.1111111111111111,
              "#46039f"
             ],
             [
              0.2222222222222222,
              "#7201a8"
             ],
             [
              0.3333333333333333,
              "#9c179e"
             ],
             [
              0.4444444444444444,
              "#bd3786"
             ],
             [
              0.5555555555555556,
              "#d8576b"
             ],
             [
              0.6666666666666666,
              "#ed7953"
             ],
             [
              0.7777777777777778,
              "#fb9f3a"
             ],
             [
              0.8888888888888888,
              "#fdca26"
             ],
             [
              1,
              "#f0f921"
             ]
            ],
            "type": "heatmapgl"
           }
          ],
          "histogram": [
           {
            "marker": {
             "pattern": {
              "fillmode": "overlay",
              "size": 10,
              "solidity": 0.2
             }
            },
            "type": "histogram"
           }
          ],
          "histogram2d": [
           {
            "colorbar": {
             "outlinewidth": 0,
             "ticks": ""
            },
            "colorscale": [
             [
              0,
              "#0d0887"
             ],
             [
              0.1111111111111111,
              "#46039f"
             ],
             [
              0.2222222222222222,
              "#7201a8"
             ],
             [
              0.3333333333333333,
              "#9c179e"
             ],
             [
              0.4444444444444444,
              "#bd3786"
             ],
             [
              0.5555555555555556,
              "#d8576b"
             ],
             [
              0.6666666666666666,
              "#ed7953"
             ],
             [
              0.7777777777777778,
              "#fb9f3a"
             ],
             [
              0.8888888888888888,
              "#fdca26"
             ],
             [
              1,
              "#f0f921"
             ]
            ],
            "type": "histogram2d"
           }
          ],
          "histogram2dcontour": [
           {
            "colorbar": {
             "outlinewidth": 0,
             "ticks": ""
            },
            "colorscale": [
             [
              0,
              "#0d0887"
             ],
             [
              0.1111111111111111,
              "#46039f"
             ],
             [
              0.2222222222222222,
              "#7201a8"
             ],
             [
              0.3333333333333333,
              "#9c179e"
             ],
             [
              0.4444444444444444,
              "#bd3786"
             ],
             [
              0.5555555555555556,
              "#d8576b"
             ],
             [
              0.6666666666666666,
              "#ed7953"
             ],
             [
              0.7777777777777778,
              "#fb9f3a"
             ],
             [
              0.8888888888888888,
              "#fdca26"
             ],
             [
              1,
              "#f0f921"
             ]
            ],
            "type": "histogram2dcontour"
           }
          ],
          "mesh3d": [
           {
            "colorbar": {
             "outlinewidth": 0,
             "ticks": ""
            },
            "type": "mesh3d"
           }
          ],
          "parcoords": [
           {
            "line": {
             "colorbar": {
              "outlinewidth": 0,
              "ticks": ""
             }
            },
            "type": "parcoords"
           }
          ],
          "pie": [
           {
            "automargin": true,
            "type": "pie"
           }
          ],
          "scatter": [
           {
            "fillpattern": {
             "fillmode": "overlay",
             "size": 10,
             "solidity": 0.2
            },
            "type": "scatter"
           }
          ],
          "scatter3d": [
           {
            "line": {
             "colorbar": {
              "outlinewidth": 0,
              "ticks": ""
             }
            },
            "marker": {
             "colorbar": {
              "outlinewidth": 0,
              "ticks": ""
             }
            },
            "type": "scatter3d"
           }
          ],
          "scattercarpet": [
           {
            "marker": {
             "colorbar": {
              "outlinewidth": 0,
              "ticks": ""
             }
            },
            "type": "scattercarpet"
           }
          ],
          "scattergeo": [
           {
            "marker": {
             "colorbar": {
              "outlinewidth": 0,
              "ticks": ""
             }
            },
            "type": "scattergeo"
           }
          ],
          "scattergl": [
           {
            "marker": {
             "colorbar": {
              "outlinewidth": 0,
              "ticks": ""
             }
            },
            "type": "scattergl"
           }
          ],
          "scattermapbox": [
           {
            "marker": {
             "colorbar": {
              "outlinewidth": 0,
              "ticks": ""
             }
            },
            "type": "scattermapbox"
           }
          ],
          "scatterpolar": [
           {
            "marker": {
             "colorbar": {
              "outlinewidth": 0,
              "ticks": ""
             }
            },
            "type": "scatterpolar"
           }
          ],
          "scatterpolargl": [
           {
            "marker": {
             "colorbar": {
              "outlinewidth": 0,
              "ticks": ""
             }
            },
            "type": "scatterpolargl"
           }
          ],
          "scatterternary": [
           {
            "marker": {
             "colorbar": {
              "outlinewidth": 0,
              "ticks": ""
             }
            },
            "type": "scatterternary"
           }
          ],
          "surface": [
           {
            "colorbar": {
             "outlinewidth": 0,
             "ticks": ""
            },
            "colorscale": [
             [
              0,
              "#0d0887"
             ],
             [
              0.1111111111111111,
              "#46039f"
             ],
             [
              0.2222222222222222,
              "#7201a8"
             ],
             [
              0.3333333333333333,
              "#9c179e"
             ],
             [
              0.4444444444444444,
              "#bd3786"
             ],
             [
              0.5555555555555556,
              "#d8576b"
             ],
             [
              0.6666666666666666,
              "#ed7953"
             ],
             [
              0.7777777777777778,
              "#fb9f3a"
             ],
             [
              0.8888888888888888,
              "#fdca26"
             ],
             [
              1,
              "#f0f921"
             ]
            ],
            "type": "surface"
           }
          ],
          "table": [
           {
            "cells": {
             "fill": {
              "color": "#EBF0F8"
             },
             "line": {
              "color": "white"
             }
            },
            "header": {
             "fill": {
              "color": "#C8D4E3"
             },
             "line": {
              "color": "white"
             }
            },
            "type": "table"
           }
          ]
         },
         "layout": {
          "annotationdefaults": {
           "arrowcolor": "#2a3f5f",
           "arrowhead": 0,
           "arrowwidth": 1
          },
          "autotypenumbers": "strict",
          "coloraxis": {
           "colorbar": {
            "outlinewidth": 0,
            "ticks": ""
           }
          },
          "colorscale": {
           "diverging": [
            [
             0,
             "#8e0152"
            ],
            [
             0.1,
             "#c51b7d"
            ],
            [
             0.2,
             "#de77ae"
            ],
            [
             0.3,
             "#f1b6da"
            ],
            [
             0.4,
             "#fde0ef"
            ],
            [
             0.5,
             "#f7f7f7"
            ],
            [
             0.6,
             "#e6f5d0"
            ],
            [
             0.7,
             "#b8e186"
            ],
            [
             0.8,
             "#7fbc41"
            ],
            [
             0.9,
             "#4d9221"
            ],
            [
             1,
             "#276419"
            ]
           ],
           "sequential": [
            [
             0,
             "#0d0887"
            ],
            [
             0.1111111111111111,
             "#46039f"
            ],
            [
             0.2222222222222222,
             "#7201a8"
            ],
            [
             0.3333333333333333,
             "#9c179e"
            ],
            [
             0.4444444444444444,
             "#bd3786"
            ],
            [
             0.5555555555555556,
             "#d8576b"
            ],
            [
             0.6666666666666666,
             "#ed7953"
            ],
            [
             0.7777777777777778,
             "#fb9f3a"
            ],
            [
             0.8888888888888888,
             "#fdca26"
            ],
            [
             1,
             "#f0f921"
            ]
           ],
           "sequentialminus": [
            [
             0,
             "#0d0887"
            ],
            [
             0.1111111111111111,
             "#46039f"
            ],
            [
             0.2222222222222222,
             "#7201a8"
            ],
            [
             0.3333333333333333,
             "#9c179e"
            ],
            [
             0.4444444444444444,
             "#bd3786"
            ],
            [
             0.5555555555555556,
             "#d8576b"
            ],
            [
             0.6666666666666666,
             "#ed7953"
            ],
            [
             0.7777777777777778,
             "#fb9f3a"
            ],
            [
             0.8888888888888888,
             "#fdca26"
            ],
            [
             1,
             "#f0f921"
            ]
           ]
          },
          "colorway": [
           "#636efa",
           "#EF553B",
           "#00cc96",
           "#ab63fa",
           "#FFA15A",
           "#19d3f3",
           "#FF6692",
           "#B6E880",
           "#FF97FF",
           "#FECB52"
          ],
          "font": {
           "color": "#2a3f5f"
          },
          "geo": {
           "bgcolor": "white",
           "lakecolor": "white",
           "landcolor": "#E5ECF6",
           "showlakes": true,
           "showland": true,
           "subunitcolor": "white"
          },
          "hoverlabel": {
           "align": "left"
          },
          "hovermode": "closest",
          "mapbox": {
           "style": "light"
          },
          "paper_bgcolor": "white",
          "plot_bgcolor": "#E5ECF6",
          "polar": {
           "angularaxis": {
            "gridcolor": "white",
            "linecolor": "white",
            "ticks": ""
           },
           "bgcolor": "#E5ECF6",
           "radialaxis": {
            "gridcolor": "white",
            "linecolor": "white",
            "ticks": ""
           }
          },
          "scene": {
           "xaxis": {
            "backgroundcolor": "#E5ECF6",
            "gridcolor": "white",
            "gridwidth": 2,
            "linecolor": "white",
            "showbackground": true,
            "ticks": "",
            "zerolinecolor": "white"
           },
           "yaxis": {
            "backgroundcolor": "#E5ECF6",
            "gridcolor": "white",
            "gridwidth": 2,
            "linecolor": "white",
            "showbackground": true,
            "ticks": "",
            "zerolinecolor": "white"
           },
           "zaxis": {
            "backgroundcolor": "#E5ECF6",
            "gridcolor": "white",
            "gridwidth": 2,
            "linecolor": "white",
            "showbackground": true,
            "ticks": "",
            "zerolinecolor": "white"
           }
          },
          "shapedefaults": {
           "line": {
            "color": "#2a3f5f"
           }
          },
          "ternary": {
           "aaxis": {
            "gridcolor": "white",
            "linecolor": "white",
            "ticks": ""
           },
           "baxis": {
            "gridcolor": "white",
            "linecolor": "white",
            "ticks": ""
           },
           "bgcolor": "#E5ECF6",
           "caxis": {
            "gridcolor": "white",
            "linecolor": "white",
            "ticks": ""
           }
          },
          "title": {
           "x": 0.05
          },
          "xaxis": {
           "automargin": true,
           "gridcolor": "white",
           "linecolor": "white",
           "ticks": "",
           "title": {
            "standoff": 15
           },
           "zerolinecolor": "white",
           "zerolinewidth": 2
          },
          "yaxis": {
           "automargin": true,
           "gridcolor": "white",
           "linecolor": "white",
           "ticks": "",
           "title": {
            "standoff": 15
           },
           "zerolinecolor": "white",
           "zerolinewidth": 2
          }
         }
        },
        "title": {
         "text": "Average Salary by Company Location",
         "x": 0.5
        }
       }
      }
     },
     "metadata": {},
     "output_type": "display_data"
    }
   ],
   "source": [
    "fig = px.choropleth(locations=average_salary['company_location'],\n",
    "                    color=average_salary['mean_salary_in_usd'],\n",
    "                    color_continuous_scale=px.colors.sequential.RdBu)\n",
    "fig.update_layout(\n",
    "    title=\"Average Salary by Company Location\", title_x=0.5)\n",
    "\n",
    "fig.show()"
   ]
  },
  {
   "cell_type": "markdown",
   "id": "85c58dd8",
   "metadata": {},
   "source": [
    "- Nhận xét:\n",
    "    - Dựa vào hình ảnh trực quan ta có thể thấy các quốc gia có mức lương trung bình rất cao là: Nga (157.5k), Mỹ (148.5981), Úc (108.0427k), Nhật (114.1273k), Canada (101.9085k).\n",
    "    - Đây đều là những quốc gia phát triển hàng đầu thế giới về mọi lĩnh vực và các quốc gia này sẵn sàng trả mức lương rất hậu hĩnh cho nhân lực ngành Khoa học dữ liệu. Điều đó chứng tỏ Khoa học dữ liệu là lĩnh vực nghề nghiệp quan trọng trong sự phát triển của đất nước và người lao động có thể cân nhắc lựa chọn những quốc gia này để phát triển sự nghiệp và có thu nhập tốt."
   ]
  },
  {
   "cell_type": "markdown",
   "id": "ef6013f8",
   "metadata": {},
   "source": [
    "### 3. Tổng kết:"
   ]
  },
  {
   "cell_type": "markdown",
   "id": "c85582ef",
   "metadata": {},
   "source": [
    "#### a. Khó khăn gặp phải: \n",
    "- Chưa có nhiều kinh nghiệm khi làm các bài toán về KHDL nên gặp khó khăn trong lúc đặt ra câu hỏi và phân tích trên dữ liệu tìm câu trả lời.\n",
    "- Chưa biết nên chọn loại trực quan nào có thể mô tả được hết ý nghĩa dữ liệu mình đang phân tích."
   ]
  },
  {
   "cell_type": "markdown",
   "id": "d0a14c6e",
   "metadata": {},
   "source": [
    "#### b. Kiến thức học được: "
   ]
  },
  {
   "cell_type": "markdown",
   "id": "1c13c5b8",
   "metadata": {},
   "source": [
    "- Hiểu được tổng quán về dữ liệu, tận dụng các công cụ để phát huy được chức năng của dữ liệu.\n",
    "- Quy trình làm bài về KHDL , cách khám phá và phân tích ý nghĩa của dữ liệu.\n",
    "- Cách sử dụng github để làm việc."
   ]
  },
  {
   "cell_type": "markdown",
   "id": "723517c4",
   "metadata": {},
   "source": [
    "#### c. Nếu có thời gian sẽ: "
   ]
  },
  {
   "cell_type": "markdown",
   "id": "c1565550",
   "metadata": {},
   "source": [
    "- Sẽ tham khảo thêm nhiều bài viết về chủ đề này để có thêm nhiều góc nhìn đến nhiều hướng của dữ liệu.\n",
    "- Nghiên cứu nhiều hơn về các vai trò cũng như tầm quan trọng của các ngành nghề trong KHDL, để có thể phân tích sâu hơn và đặt được nhiều câu hỏi mang giá trị hơn."
   ]
  },
  {
   "cell_type": "code",
   "execution_count": null,
   "id": "60a3df1a",
   "metadata": {},
   "outputs": [],
   "source": []
  }
 ],
 "metadata": {
  "kernelspec": {
   "display_name": "Python 3 (ipykernel)",
   "language": "python",
   "name": "python3"
  },
  "language_info": {
   "codemirror_mode": {
    "name": "ipython",
    "version": 3
   },
   "file_extension": ".py",
   "mimetype": "text/x-python",
   "name": "python",
   "nbconvert_exporter": "python",
   "pygments_lexer": "ipython3",
   "version": "3.10.2"
  },
  "vscode": {
   "interpreter": {
    "hash": "a42ccb73e7d9bfdf27e036f1d2b8b681e55fc0743cc5586bc2474d4a60f4b886"
   }
  }
 },
 "nbformat": 4,
 "nbformat_minor": 5
}
